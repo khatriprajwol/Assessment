{
  "nbformat": 4,
  "nbformat_minor": 0,
  "metadata": {
    "colab": {
      "provenance": [],
      "authorship_tag": "ABX9TyNfEDFtZ2CJDgwa0hOTQAvj"
    },
    "kernelspec": {
      "name": "python3",
      "display_name": "Python 3"
    },
    "language_info": {
      "name": "python"
    }
  },
  "cells": [
    {
      "cell_type": "markdown",
      "source": [
        "#Recreating the Master Using Python!"
      ],
      "metadata": {
        "id": "5JZxhLQxAV89"
      }
    },
    {
      "cell_type": "markdown",
      "source": [
        "#Introduction\n",
        "\n",
        "In this project, I will be recreating one of my favorite visualization. Usually, we take data set to create visuaization of our choice and use it to make data driven decisions. However, this project will be different. I will be first choosing the visualization and then I will try to find the similar dataset which will be used to make similar visualization. The programming language I will be using is Python to create this project. Also, after each line of code I will be describing what that code is doing.\n",
        "\n",
        "#Visualization\n",
        "\n",
        "#[Stream Graph of Immigration to the U.S.](https://dpbnri2zg3lc2.cloudfront.net/en/wp-content/uploads/old-blog-uploads/steamgraph-us-immigration.jpeg)\n",
        "\n",
        "\n",
        "![Visualization](https://dpbnri2zg3lc2.cloudfront.net/en/wp-content/uploads/old-blog-uploads/steamgraph-us-immigration.jpeg)\n",
        "\n",
        "Data journalist Talia Bronshtein created this stream graph bursting with colors. The [visualization](https://dpbnri2zg3lc2.cloudfront.net/en/wp-content/uploads/old-blog-uploads/steamgraph-us-immigration.jpeg) plots the nationality of various immigrants to the U.S. from 1820 to 2013. For example, we learn that during 1939–1945 (World War II), immigration to the U.S. almost came to a stop."
      ],
      "metadata": {
        "id": "8z5TEhSX_Wpk"
      }
    },
    {
      "cell_type": "code",
      "source": [],
      "metadata": {
        "id": "CwHcE8TQBawu"
      },
      "execution_count": null,
      "outputs": []
    }
  ]
}