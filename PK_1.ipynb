{
  "nbformat": 4,
  "nbformat_minor": 0,
  "metadata": {
    "colab": {
      "provenance": [],
      "authorship_tag": "ABX9TyMzx9ELQ0Q3uf0jFctxh4MK",
      "include_colab_link": true
    },
    "kernelspec": {
      "name": "python3",
      "display_name": "Python 3"
    },
    "language_info": {
      "name": "python"
    }
  },
  "cells": [
    {
      "cell_type": "markdown",
      "metadata": {
        "id": "view-in-github",
        "colab_type": "text"
      },
      "source": [
        "<a href=\"https://colab.research.google.com/github/khatriprajwol/Assessment/blob/main/PK_1.ipynb\" target=\"_parent\"><img src=\"https://colab.research.google.com/assets/colab-badge.svg\" alt=\"Open In Colab\"/></a>"
      ]
    },
    {
      "cell_type": "markdown",
      "source": [
        "#Recreating the Master Using Python!"
      ],
      "metadata": {
        "id": "5JZxhLQxAV89"
      }
    },
    {
      "cell_type": "markdown",
      "source": [
        "#Introduction\n",
        "\n",
        "In this project, I will be recreating one of my favorite visualization. Usually we take data set to create visuaization of our choice and use it to make data driven decision. However, this project will be different. I will be first choosing the visualization and then I will try to find the similar dataset that which will create the visualization.\n"
      ],
      "metadata": {
        "id": "8z5TEhSX_Wpk"
      }
    },
    {
      "cell_type": "code",
      "source": [],
      "metadata": {
        "id": "CwHcE8TQBawu"
      },
      "execution_count": null,
      "outputs": []
    }
  ]
}