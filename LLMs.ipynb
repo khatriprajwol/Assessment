{
  "nbformat": 4,
  "nbformat_minor": 0,
  "metadata": {
    "colab": {
      "provenance": [],
      "mount_file_id": "1Iu8WjZud1M31utvzY1ZLoSkQ2ktAsIBn",
      "authorship_tag": "ABX9TyMeBGfgYTtSyaidgG3Oy82H",
      "include_colab_link": true
    },
    "kernelspec": {
      "name": "python3",
      "display_name": "Python 3"
    },
    "language_info": {
      "name": "python"
    }
  },
  "cells": [
    {
      "cell_type": "markdown",
      "metadata": {
        "id": "view-in-github",
        "colab_type": "text"
      },
      "source": [
        "<a href=\"https://colab.research.google.com/github/khatriprajwol/Assessment/blob/main/LLMs.ipynb\" target=\"_parent\"><img src=\"https://colab.research.google.com/assets/colab-badge.svg\" alt=\"Open In Colab\"/></a>"
      ]
    },
    {
      "cell_type": "markdown",
      "source": [
        "# **Introduction of LLM**\n",
        "\n",
        "What is Large language Model (LLM)?\n",
        "- Neural netwoks designed to understant, generate and respond to human like text.\n",
        "- Deep Neural Networks trained on massive amount of text data. Application like self driving cars, image dectation.\n",
        "-"
      ],
      "metadata": {
        "id": "l404r9gkDQFO"
      }
    },
    {
      "cell_type": "markdown",
      "source": [
        "How to create tokens and why they are important in creating LLMs?"
      ],
      "metadata": {
        "id": "IoigJVan8Dok"
      }
    },
    {
      "cell_type": "markdown",
      "source": [
        "Let's start with a simple text."
      ],
      "metadata": {
        "id": "w7lQ5AtG8Tdg"
      }
    },
    {
      "cell_type": "code",
      "execution_count": 2,
      "metadata": {
        "colab": {
          "base_uri": "https://localhost:8080/"
        },
        "id": "ntVOcueF5_kp",
        "outputId": "6449297d-86ab-479c-f269-8b7534710834"
      },
      "outputs": [
        {
          "output_type": "stream",
          "name": "stdout",
          "text": [
            "['Happy', 'Birthday', 'to', 'you.']\n"
          ]
        }
      ],
      "source": [
        "text = 'Happy Birthday to you.'\n",
        "tokens = text.split()\n",
        "print(tokens)"
      ]
    },
    {
      "cell_type": "markdown",
      "source": [
        "In our above text. `Happy` is one token, while `Brithday` is another token followed by `to` and `you`. Before we assign these word a token, first thing we should always consider or make a note of it in our mind is that. We should sort them all in ascending order and assign them token. If we have abc, aab, aad as a token then the token should be assigned as follows.\n",
        "\n",
        "aab = 1\n",
        "aad = 2\n",
        "abc = 3\n",
        "\n",
        "It is very important to do it this way."
      ],
      "metadata": {
        "id": "Bt4CQatS8DI5"
      }
    },
    {
      "cell_type": "code",
      "source": [
        "text = 'Happy Birthday to you.'\n",
        "text = re.split()\n",
        "print(tokens)"
      ],
      "metadata": {
        "id": "LvSr2d749b4k"
      },
      "execution_count": null,
      "outputs": []
    },
    {
      "cell_type": "markdown",
      "source": [],
      "metadata": {
        "id": "rFl43if18emA"
      }
    }
  ]
}